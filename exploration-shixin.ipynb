{
 "cells": [
  {
   "cell_type": "markdown",
   "metadata": {},
   "source": [
    "<h1> Interactive Data Analysis </h1>\n",
    "\n",
    "This notebook introduces carrying out interactive data analysis of data in BigQuery using Notebook."
   ]
  },
  {
   "cell_type": "markdown",
   "metadata": {},
   "source": [
    "<h2> What's installed? </h2>"
   ]
  },
  {
   "cell_type": "code",
   "execution_count": null,
   "metadata": {
    "collapsed": false
   },
   "outputs": [],
   "source": [
    "# !pip freeze"
   ]
  },
  {
   "cell_type": "code",
   "execution_count": 1,
   "metadata": {
    "collapsed": true
   },
   "outputs": [],
   "source": [
    "import pandas as pd\n",
    "import numpy as np\n",
    "\n",
    "import matplotlib.pyplot as plt\n",
    "import seaborn as sns\n",
    "sns.set_style(\"whitegrid\")\n",
    "\n",
    "# Load bigquery magic command\n",
    "%load_ext google.cloud.bigquery"
   ]
  },
  {
   "cell_type": "markdown",
   "metadata": {},
   "source": [
    "<h2> Installing dependencies </h2>\n",
    "\n",
    "If there is any dependency need to be installed. It is possible to install the dependency directly from notebook. However, it is recommended to check with your team members that maintain the notebook service."
   ]
  },
  {
   "cell_type": "code",
   "execution_count": null,
   "metadata": {
    "collapsed": false
   },
   "outputs": [],
   "source": [
    "# !pip install google-cloud"
   ]
  },
  {
   "cell_type": "code",
   "execution_count": null,
   "metadata": {
    "collapsed": false
   },
   "outputs": [],
   "source": [
    "# %bash\n",
    "# apt-get update\n",
    "# apt-get -y install python-mpltoolkits.basemap"
   ]
  },
  {
   "cell_type": "markdown",
   "metadata": {},
   "source": [
    "<h2> Juypter magic </h2>\n",
    "\n",
    "Here are just some examples how the jupyter magic command can be used."
   ]
  },
  {
   "cell_type": "code",
   "execution_count": 4,
   "metadata": {},
   "outputs": [
    {
     "name": "stdout",
     "output_type": "stream",
     "text": [
      "[\n",
      "  {\n",
      "    \"mode\": \"NULLABLE\", \n",
      "    \"name\": \"FL_DATE\", \n",
      "    \"type\": \"DATE\"\n",
      "  }, \n",
      "  {\n",
      "    \"mode\": \"NULLABLE\", \n",
      "    \"name\": \"UNIQUE_CARRIER\", \n",
      "    \"type\": \"STRING\"\n",
      "  }, \n",
      "  {\n",
      "    \"mode\": \"NULLABLE\", \n",
      "    \"name\": \"AIRLINE_ID\", \n",
      "    \"type\": \"INTEGER\"\n",
      "  }, \n",
      "  {\n",
      "    \"mode\": \"NULLABLE\", \n",
      "    \"name\": \"CARRIER\", \n",
      "    \"type\": \"STRING\"\n",
      "  }, \n",
      "  {\n",
      "    \"mode\": \"NULLABLE\", \n",
      "    \"name\": \"FL_NUM\", \n",
      "    \"type\": \"INTEGER\"\n",
      "  }, \n",
      "  {\n",
      "    \"mode\": \"NULLABLE\", \n",
      "    \"name\": \"ORIGIN_AIRPORT_ID\", \n",
      "    \"type\": \"INTEGER\"\n",
      "  }, \n",
      "  {\n",
      "    \"mode\": \"NULLABLE\", \n",
      "    \"name\": \"ORIGIN_AIRPORT_SEQ_ID\", \n",
      "    \"type\": \"INTEGER\"\n",
      "  }, \n",
      "  {\n",
      "    \"mode\": \"NULLABLE\", \n",
      "    \"name\": \"ORIGIN_CITY_MARKET_ID\", \n",
      "    \"type\": \"INTEGER\"\n",
      "  }, \n",
      "  {\n",
      "    \"mode\": \"NULLABLE\", \n",
      "    \"name\": \"ORIGIN\", \n",
      "    \"type\": \"STRING\"\n",
      "  }, \n",
      "  {\n",
      "    \"mode\": \"NULLABLE\", \n",
      "    \"name\": \"DEST_AIRPORT_ID\", \n",
      "    \"type\": \"INTEGER\"\n",
      "  }, \n",
      "  {\n",
      "    \"mode\": \"NULLABLE\", \n",
      "    \"name\": \"DEST_AIRPORT_SEQ_ID\", \n",
      "    \"type\": \"INTEGER\"\n",
      "  }, \n",
      "  {\n",
      "    \"mode\": \"NULLABLE\", \n",
      "    \"name\": \"DEST_CITY_MARKET_ID\", \n",
      "    \"type\": \"INTEGER\"\n",
      "  }, \n",
      "  {\n",
      "    \"mode\": \"NULLABLE\", \n",
      "    \"name\": \"DEST\", \n",
      "    \"type\": \"STRING\"\n",
      "  }, \n",
      "  {\n",
      "    \"mode\": \"NULLABLE\", \n",
      "    \"name\": \"CRS_DEP_TIME\", \n",
      "    \"type\": \"INTEGER\"\n",
      "  }, \n",
      "  {\n",
      "    \"mode\": \"NULLABLE\", \n",
      "    \"name\": \"DEP_TIME\", \n",
      "    \"type\": \"INTEGER\"\n",
      "  }, \n",
      "  {\n",
      "    \"mode\": \"NULLABLE\", \n",
      "    \"name\": \"DEP_DELAY\", \n",
      "    \"type\": \"FLOAT\"\n",
      "  }, \n",
      "  {\n",
      "    \"mode\": \"NULLABLE\", \n",
      "    \"name\": \"TAXI_OUT\", \n",
      "    \"type\": \"FLOAT\"\n",
      "  }, \n",
      "  {\n",
      "    \"mode\": \"NULLABLE\", \n",
      "    \"name\": \"WHEELS_OFF\", \n",
      "    \"type\": \"INTEGER\"\n",
      "  }, \n",
      "  {\n",
      "    \"mode\": \"NULLABLE\", \n",
      "    \"name\": \"WHEELS_ON\", \n",
      "    \"type\": \"INTEGER\"\n",
      "  }, \n",
      "  {\n",
      "    \"mode\": \"NULLABLE\", \n",
      "    \"name\": \"TAXI_IN\", \n",
      "    \"type\": \"FLOAT\"\n",
      "  }, \n",
      "  {\n",
      "    \"mode\": \"NULLABLE\", \n",
      "    \"name\": \"CRS_ARR_TIME\", \n",
      "    \"type\": \"INTEGER\"\n",
      "  }, \n",
      "  {\n",
      "    \"mode\": \"NULLABLE\", \n",
      "    \"name\": \"ARR_TIME\", \n",
      "    \"type\": \"INTEGER\"\n",
      "  }, \n",
      "  {\n",
      "    \"mode\": \"NULLABLE\", \n",
      "    \"name\": \"ARR_DELAY\", \n",
      "    \"type\": \"FLOAT\"\n",
      "  }, \n",
      "  {\n",
      "    \"mode\": \"NULLABLE\", \n",
      "    \"name\": \"CANCELLED\", \n",
      "    \"type\": \"FLOAT\"\n",
      "  }, \n",
      "  {\n",
      "    \"mode\": \"NULLABLE\", \n",
      "    \"name\": \"CANCELLATION_CODE\", \n",
      "    \"type\": \"STRING\"\n",
      "  }, \n",
      "  {\n",
      "    \"mode\": \"NULLABLE\", \n",
      "    \"name\": \"DIVERTED\", \n",
      "    \"type\": \"FLOAT\"\n",
      "  }, \n",
      "  {\n",
      "    \"mode\": \"NULLABLE\", \n",
      "    \"name\": \"DISTANCE\", \n",
      "    \"type\": \"FLOAT\"\n",
      "  }\n",
      "]\n"
     ]
    }
   ],
   "source": [
    "# Run bq command directly in notebook\n",
    "! bq show --schema --format=prettyjson workshop-trvlk:events.flights_perf_nopartition"
   ]
  },
  {
   "cell_type": "code",
   "execution_count": 11,
   "metadata": {
    "collapsed": false
   },
   "outputs": [
    {
     "data": {
      "text/html": [
       "This cell will print out a <b> HTML </b> string.\n"
      ],
      "text/plain": [
       "<IPython.core.display.HTML object>"
      ]
     },
     "metadata": {},
     "output_type": "display_data"
    }
   ],
   "source": [
    "%%html\n",
    "This cell will print out a <b> HTML </b> string."
   ]
  },
  {
   "cell_type": "code",
   "execution_count": 10,
   "metadata": {
    "collapsed": false
   },
   "outputs": [
    {
     "data": {
      "text/html": [
       "<div>\n",
       "<style scoped>\n",
       "    .dataframe tbody tr th:only-of-type {\n",
       "        vertical-align: middle;\n",
       "    }\n",
       "\n",
       "    .dataframe tbody tr th {\n",
       "        vertical-align: top;\n",
       "    }\n",
       "\n",
       "    .dataframe thead th {\n",
       "        text-align: right;\n",
       "    }\n",
       "</style>\n",
       "<table border=\"1\" class=\"dataframe\">\n",
       "  <thead>\n",
       "    <tr style=\"text-align: right;\">\n",
       "      <th></th>\n",
       "      <th>table_catalog</th>\n",
       "      <th>table_schema</th>\n",
       "      <th>table_name</th>\n",
       "      <th>column_name</th>\n",
       "      <th>ordinal_position</th>\n",
       "      <th>is_nullable</th>\n",
       "      <th>data_type</th>\n",
       "      <th>is_generated</th>\n",
       "      <th>generation_expression</th>\n",
       "      <th>is_stored</th>\n",
       "      <th>is_hidden</th>\n",
       "      <th>is_updatable</th>\n",
       "      <th>is_system_defined</th>\n",
       "      <th>is_partitioning_column</th>\n",
       "      <th>clustering_ordinal_position</th>\n",
       "    </tr>\n",
       "  </thead>\n",
       "  <tbody>\n",
       "    <tr>\n",
       "      <th>0</th>\n",
       "      <td>workshop-trvlk</td>\n",
       "      <td>events</td>\n",
       "      <td>flights_perf_partition</td>\n",
       "      <td>FL_DATE</td>\n",
       "      <td>1</td>\n",
       "      <td>YES</td>\n",
       "      <td>DATE</td>\n",
       "      <td>NEVER</td>\n",
       "      <td>None</td>\n",
       "      <td>None</td>\n",
       "      <td>NO</td>\n",
       "      <td>None</td>\n",
       "      <td>NO</td>\n",
       "      <td>YES</td>\n",
       "      <td>None</td>\n",
       "    </tr>\n",
       "    <tr>\n",
       "      <th>1</th>\n",
       "      <td>workshop-trvlk</td>\n",
       "      <td>events</td>\n",
       "      <td>flights_perf_partition</td>\n",
       "      <td>UNIQUE_CARRIER</td>\n",
       "      <td>2</td>\n",
       "      <td>YES</td>\n",
       "      <td>STRING</td>\n",
       "      <td>NEVER</td>\n",
       "      <td>None</td>\n",
       "      <td>None</td>\n",
       "      <td>NO</td>\n",
       "      <td>None</td>\n",
       "      <td>NO</td>\n",
       "      <td>NO</td>\n",
       "      <td>None</td>\n",
       "    </tr>\n",
       "    <tr>\n",
       "      <th>2</th>\n",
       "      <td>workshop-trvlk</td>\n",
       "      <td>events</td>\n",
       "      <td>flights_perf_partition</td>\n",
       "      <td>AIRLINE_ID</td>\n",
       "      <td>3</td>\n",
       "      <td>YES</td>\n",
       "      <td>STRING</td>\n",
       "      <td>NEVER</td>\n",
       "      <td>None</td>\n",
       "      <td>None</td>\n",
       "      <td>NO</td>\n",
       "      <td>None</td>\n",
       "      <td>NO</td>\n",
       "      <td>NO</td>\n",
       "      <td>None</td>\n",
       "    </tr>\n",
       "    <tr>\n",
       "      <th>3</th>\n",
       "      <td>workshop-trvlk</td>\n",
       "      <td>events</td>\n",
       "      <td>flights_perf_partition</td>\n",
       "      <td>CARRIER</td>\n",
       "      <td>4</td>\n",
       "      <td>YES</td>\n",
       "      <td>STRING</td>\n",
       "      <td>NEVER</td>\n",
       "      <td>None</td>\n",
       "      <td>None</td>\n",
       "      <td>NO</td>\n",
       "      <td>None</td>\n",
       "      <td>NO</td>\n",
       "      <td>NO</td>\n",
       "      <td>None</td>\n",
       "    </tr>\n",
       "    <tr>\n",
       "      <th>4</th>\n",
       "      <td>workshop-trvlk</td>\n",
       "      <td>events</td>\n",
       "      <td>flights_perf_partition</td>\n",
       "      <td>FL_NUM</td>\n",
       "      <td>5</td>\n",
       "      <td>YES</td>\n",
       "      <td>STRING</td>\n",
       "      <td>NEVER</td>\n",
       "      <td>None</td>\n",
       "      <td>None</td>\n",
       "      <td>NO</td>\n",
       "      <td>None</td>\n",
       "      <td>NO</td>\n",
       "      <td>NO</td>\n",
       "      <td>None</td>\n",
       "    </tr>\n",
       "    <tr>\n",
       "      <th>5</th>\n",
       "      <td>workshop-trvlk</td>\n",
       "      <td>events</td>\n",
       "      <td>flights_perf_partition</td>\n",
       "      <td>ORIGIN_AIRPORT_ID</td>\n",
       "      <td>6</td>\n",
       "      <td>YES</td>\n",
       "      <td>STRING</td>\n",
       "      <td>NEVER</td>\n",
       "      <td>None</td>\n",
       "      <td>None</td>\n",
       "      <td>NO</td>\n",
       "      <td>None</td>\n",
       "      <td>NO</td>\n",
       "      <td>NO</td>\n",
       "      <td>None</td>\n",
       "    </tr>\n",
       "    <tr>\n",
       "      <th>6</th>\n",
       "      <td>workshop-trvlk</td>\n",
       "      <td>events</td>\n",
       "      <td>flights_perf_partition</td>\n",
       "      <td>ORIGIN_AIRPORT_SEQ_ID</td>\n",
       "      <td>7</td>\n",
       "      <td>YES</td>\n",
       "      <td>INT64</td>\n",
       "      <td>NEVER</td>\n",
       "      <td>None</td>\n",
       "      <td>None</td>\n",
       "      <td>NO</td>\n",
       "      <td>None</td>\n",
       "      <td>NO</td>\n",
       "      <td>NO</td>\n",
       "      <td>None</td>\n",
       "    </tr>\n",
       "    <tr>\n",
       "      <th>7</th>\n",
       "      <td>workshop-trvlk</td>\n",
       "      <td>events</td>\n",
       "      <td>flights_perf_partition</td>\n",
       "      <td>ORIGIN_CITY_MARKET_ID</td>\n",
       "      <td>8</td>\n",
       "      <td>YES</td>\n",
       "      <td>STRING</td>\n",
       "      <td>NEVER</td>\n",
       "      <td>None</td>\n",
       "      <td>None</td>\n",
       "      <td>NO</td>\n",
       "      <td>None</td>\n",
       "      <td>NO</td>\n",
       "      <td>NO</td>\n",
       "      <td>None</td>\n",
       "    </tr>\n",
       "    <tr>\n",
       "      <th>8</th>\n",
       "      <td>workshop-trvlk</td>\n",
       "      <td>events</td>\n",
       "      <td>flights_perf_partition</td>\n",
       "      <td>ORIGIN</td>\n",
       "      <td>9</td>\n",
       "      <td>YES</td>\n",
       "      <td>STRING</td>\n",
       "      <td>NEVER</td>\n",
       "      <td>None</td>\n",
       "      <td>None</td>\n",
       "      <td>NO</td>\n",
       "      <td>None</td>\n",
       "      <td>NO</td>\n",
       "      <td>NO</td>\n",
       "      <td>None</td>\n",
       "    </tr>\n",
       "    <tr>\n",
       "      <th>9</th>\n",
       "      <td>workshop-trvlk</td>\n",
       "      <td>events</td>\n",
       "      <td>flights_perf_partition</td>\n",
       "      <td>DEST_AIRPORT_ID</td>\n",
       "      <td>10</td>\n",
       "      <td>YES</td>\n",
       "      <td>STRING</td>\n",
       "      <td>NEVER</td>\n",
       "      <td>None</td>\n",
       "      <td>None</td>\n",
       "      <td>NO</td>\n",
       "      <td>None</td>\n",
       "      <td>NO</td>\n",
       "      <td>NO</td>\n",
       "      <td>None</td>\n",
       "    </tr>\n",
       "    <tr>\n",
       "      <th>10</th>\n",
       "      <td>workshop-trvlk</td>\n",
       "      <td>events</td>\n",
       "      <td>flights_perf_partition</td>\n",
       "      <td>DEST_AIRPORT_SEQ_ID</td>\n",
       "      <td>11</td>\n",
       "      <td>YES</td>\n",
       "      <td>INT64</td>\n",
       "      <td>NEVER</td>\n",
       "      <td>None</td>\n",
       "      <td>None</td>\n",
       "      <td>NO</td>\n",
       "      <td>None</td>\n",
       "      <td>NO</td>\n",
       "      <td>NO</td>\n",
       "      <td>None</td>\n",
       "    </tr>\n",
       "    <tr>\n",
       "      <th>11</th>\n",
       "      <td>workshop-trvlk</td>\n",
       "      <td>events</td>\n",
       "      <td>flights_perf_partition</td>\n",
       "      <td>DEST_CITY_MARKET_ID</td>\n",
       "      <td>12</td>\n",
       "      <td>YES</td>\n",
       "      <td>STRING</td>\n",
       "      <td>NEVER</td>\n",
       "      <td>None</td>\n",
       "      <td>None</td>\n",
       "      <td>NO</td>\n",
       "      <td>None</td>\n",
       "      <td>NO</td>\n",
       "      <td>NO</td>\n",
       "      <td>None</td>\n",
       "    </tr>\n",
       "    <tr>\n",
       "      <th>12</th>\n",
       "      <td>workshop-trvlk</td>\n",
       "      <td>events</td>\n",
       "      <td>flights_perf_partition</td>\n",
       "      <td>DEST</td>\n",
       "      <td>13</td>\n",
       "      <td>YES</td>\n",
       "      <td>STRING</td>\n",
       "      <td>NEVER</td>\n",
       "      <td>None</td>\n",
       "      <td>None</td>\n",
       "      <td>NO</td>\n",
       "      <td>None</td>\n",
       "      <td>NO</td>\n",
       "      <td>NO</td>\n",
       "      <td>None</td>\n",
       "    </tr>\n",
       "    <tr>\n",
       "      <th>13</th>\n",
       "      <td>workshop-trvlk</td>\n",
       "      <td>events</td>\n",
       "      <td>flights_perf_partition</td>\n",
       "      <td>CRS_DEP_TIME</td>\n",
       "      <td>14</td>\n",
       "      <td>YES</td>\n",
       "      <td>TIMESTAMP</td>\n",
       "      <td>NEVER</td>\n",
       "      <td>None</td>\n",
       "      <td>None</td>\n",
       "      <td>NO</td>\n",
       "      <td>None</td>\n",
       "      <td>NO</td>\n",
       "      <td>NO</td>\n",
       "      <td>None</td>\n",
       "    </tr>\n",
       "    <tr>\n",
       "      <th>14</th>\n",
       "      <td>workshop-trvlk</td>\n",
       "      <td>events</td>\n",
       "      <td>flights_perf_partition</td>\n",
       "      <td>DEP_TIME</td>\n",
       "      <td>15</td>\n",
       "      <td>YES</td>\n",
       "      <td>TIMESTAMP</td>\n",
       "      <td>NEVER</td>\n",
       "      <td>None</td>\n",
       "      <td>None</td>\n",
       "      <td>NO</td>\n",
       "      <td>None</td>\n",
       "      <td>NO</td>\n",
       "      <td>NO</td>\n",
       "      <td>None</td>\n",
       "    </tr>\n",
       "    <tr>\n",
       "      <th>15</th>\n",
       "      <td>workshop-trvlk</td>\n",
       "      <td>events</td>\n",
       "      <td>flights_perf_partition</td>\n",
       "      <td>DEP_DELAY</td>\n",
       "      <td>16</td>\n",
       "      <td>YES</td>\n",
       "      <td>FLOAT64</td>\n",
       "      <td>NEVER</td>\n",
       "      <td>None</td>\n",
       "      <td>None</td>\n",
       "      <td>NO</td>\n",
       "      <td>None</td>\n",
       "      <td>NO</td>\n",
       "      <td>NO</td>\n",
       "      <td>None</td>\n",
       "    </tr>\n",
       "    <tr>\n",
       "      <th>16</th>\n",
       "      <td>workshop-trvlk</td>\n",
       "      <td>events</td>\n",
       "      <td>flights_perf_partition</td>\n",
       "      <td>TAXI_OUT</td>\n",
       "      <td>17</td>\n",
       "      <td>YES</td>\n",
       "      <td>FLOAT64</td>\n",
       "      <td>NEVER</td>\n",
       "      <td>None</td>\n",
       "      <td>None</td>\n",
       "      <td>NO</td>\n",
       "      <td>None</td>\n",
       "      <td>NO</td>\n",
       "      <td>NO</td>\n",
       "      <td>None</td>\n",
       "    </tr>\n",
       "    <tr>\n",
       "      <th>17</th>\n",
       "      <td>workshop-trvlk</td>\n",
       "      <td>events</td>\n",
       "      <td>flights_perf_partition</td>\n",
       "      <td>WHEELS_OFF</td>\n",
       "      <td>18</td>\n",
       "      <td>YES</td>\n",
       "      <td>TIMESTAMP</td>\n",
       "      <td>NEVER</td>\n",
       "      <td>None</td>\n",
       "      <td>None</td>\n",
       "      <td>NO</td>\n",
       "      <td>None</td>\n",
       "      <td>NO</td>\n",
       "      <td>NO</td>\n",
       "      <td>None</td>\n",
       "    </tr>\n",
       "    <tr>\n",
       "      <th>18</th>\n",
       "      <td>workshop-trvlk</td>\n",
       "      <td>events</td>\n",
       "      <td>flights_perf_partition</td>\n",
       "      <td>WHEELS_ON</td>\n",
       "      <td>19</td>\n",
       "      <td>YES</td>\n",
       "      <td>TIMESTAMP</td>\n",
       "      <td>NEVER</td>\n",
       "      <td>None</td>\n",
       "      <td>None</td>\n",
       "      <td>NO</td>\n",
       "      <td>None</td>\n",
       "      <td>NO</td>\n",
       "      <td>NO</td>\n",
       "      <td>None</td>\n",
       "    </tr>\n",
       "    <tr>\n",
       "      <th>19</th>\n",
       "      <td>workshop-trvlk</td>\n",
       "      <td>events</td>\n",
       "      <td>flights_perf_partition</td>\n",
       "      <td>TAXI_IN</td>\n",
       "      <td>20</td>\n",
       "      <td>YES</td>\n",
       "      <td>FLOAT64</td>\n",
       "      <td>NEVER</td>\n",
       "      <td>None</td>\n",
       "      <td>None</td>\n",
       "      <td>NO</td>\n",
       "      <td>None</td>\n",
       "      <td>NO</td>\n",
       "      <td>NO</td>\n",
       "      <td>None</td>\n",
       "    </tr>\n",
       "    <tr>\n",
       "      <th>20</th>\n",
       "      <td>workshop-trvlk</td>\n",
       "      <td>events</td>\n",
       "      <td>flights_perf_partition</td>\n",
       "      <td>CRS_ARR_TIME</td>\n",
       "      <td>21</td>\n",
       "      <td>YES</td>\n",
       "      <td>TIMESTAMP</td>\n",
       "      <td>NEVER</td>\n",
       "      <td>None</td>\n",
       "      <td>None</td>\n",
       "      <td>NO</td>\n",
       "      <td>None</td>\n",
       "      <td>NO</td>\n",
       "      <td>NO</td>\n",
       "      <td>None</td>\n",
       "    </tr>\n",
       "    <tr>\n",
       "      <th>21</th>\n",
       "      <td>workshop-trvlk</td>\n",
       "      <td>events</td>\n",
       "      <td>flights_perf_partition</td>\n",
       "      <td>ARR_TIME</td>\n",
       "      <td>22</td>\n",
       "      <td>YES</td>\n",
       "      <td>TIMESTAMP</td>\n",
       "      <td>NEVER</td>\n",
       "      <td>None</td>\n",
       "      <td>None</td>\n",
       "      <td>NO</td>\n",
       "      <td>None</td>\n",
       "      <td>NO</td>\n",
       "      <td>NO</td>\n",
       "      <td>None</td>\n",
       "    </tr>\n",
       "    <tr>\n",
       "      <th>22</th>\n",
       "      <td>workshop-trvlk</td>\n",
       "      <td>events</td>\n",
       "      <td>flights_perf_partition</td>\n",
       "      <td>ARR_DELAY</td>\n",
       "      <td>23</td>\n",
       "      <td>YES</td>\n",
       "      <td>FLOAT64</td>\n",
       "      <td>NEVER</td>\n",
       "      <td>None</td>\n",
       "      <td>None</td>\n",
       "      <td>NO</td>\n",
       "      <td>None</td>\n",
       "      <td>NO</td>\n",
       "      <td>NO</td>\n",
       "      <td>None</td>\n",
       "    </tr>\n",
       "    <tr>\n",
       "      <th>23</th>\n",
       "      <td>workshop-trvlk</td>\n",
       "      <td>events</td>\n",
       "      <td>flights_perf_partition</td>\n",
       "      <td>CANCELLED</td>\n",
       "      <td>24</td>\n",
       "      <td>YES</td>\n",
       "      <td>STRING</td>\n",
       "      <td>NEVER</td>\n",
       "      <td>None</td>\n",
       "      <td>None</td>\n",
       "      <td>NO</td>\n",
       "      <td>None</td>\n",
       "      <td>NO</td>\n",
       "      <td>NO</td>\n",
       "      <td>None</td>\n",
       "    </tr>\n",
       "    <tr>\n",
       "      <th>24</th>\n",
       "      <td>workshop-trvlk</td>\n",
       "      <td>events</td>\n",
       "      <td>flights_perf_partition</td>\n",
       "      <td>CANCELLATION_CODE</td>\n",
       "      <td>25</td>\n",
       "      <td>YES</td>\n",
       "      <td>STRING</td>\n",
       "      <td>NEVER</td>\n",
       "      <td>None</td>\n",
       "      <td>None</td>\n",
       "      <td>NO</td>\n",
       "      <td>None</td>\n",
       "      <td>NO</td>\n",
       "      <td>NO</td>\n",
       "      <td>None</td>\n",
       "    </tr>\n",
       "    <tr>\n",
       "      <th>25</th>\n",
       "      <td>workshop-trvlk</td>\n",
       "      <td>events</td>\n",
       "      <td>flights_perf_partition</td>\n",
       "      <td>DIVERTED</td>\n",
       "      <td>26</td>\n",
       "      <td>YES</td>\n",
       "      <td>STRING</td>\n",
       "      <td>NEVER</td>\n",
       "      <td>None</td>\n",
       "      <td>None</td>\n",
       "      <td>NO</td>\n",
       "      <td>None</td>\n",
       "      <td>NO</td>\n",
       "      <td>NO</td>\n",
       "      <td>None</td>\n",
       "    </tr>\n",
       "    <tr>\n",
       "      <th>26</th>\n",
       "      <td>workshop-trvlk</td>\n",
       "      <td>events</td>\n",
       "      <td>flights_perf_partition</td>\n",
       "      <td>DISTANCE</td>\n",
       "      <td>27</td>\n",
       "      <td>YES</td>\n",
       "      <td>FLOAT64</td>\n",
       "      <td>NEVER</td>\n",
       "      <td>None</td>\n",
       "      <td>None</td>\n",
       "      <td>NO</td>\n",
       "      <td>None</td>\n",
       "      <td>NO</td>\n",
       "      <td>NO</td>\n",
       "      <td>None</td>\n",
       "    </tr>\n",
       "    <tr>\n",
       "      <th>27</th>\n",
       "      <td>workshop-trvlk</td>\n",
       "      <td>events</td>\n",
       "      <td>flights_perf_partition</td>\n",
       "      <td>DEP_AIRPORT_LAT</td>\n",
       "      <td>28</td>\n",
       "      <td>YES</td>\n",
       "      <td>FLOAT64</td>\n",
       "      <td>NEVER</td>\n",
       "      <td>None</td>\n",
       "      <td>None</td>\n",
       "      <td>NO</td>\n",
       "      <td>None</td>\n",
       "      <td>NO</td>\n",
       "      <td>NO</td>\n",
       "      <td>None</td>\n",
       "    </tr>\n",
       "    <tr>\n",
       "      <th>28</th>\n",
       "      <td>workshop-trvlk</td>\n",
       "      <td>events</td>\n",
       "      <td>flights_perf_partition</td>\n",
       "      <td>DEP_AIRPORT_LON</td>\n",
       "      <td>29</td>\n",
       "      <td>YES</td>\n",
       "      <td>FLOAT64</td>\n",
       "      <td>NEVER</td>\n",
       "      <td>None</td>\n",
       "      <td>None</td>\n",
       "      <td>NO</td>\n",
       "      <td>None</td>\n",
       "      <td>NO</td>\n",
       "      <td>NO</td>\n",
       "      <td>None</td>\n",
       "    </tr>\n",
       "    <tr>\n",
       "      <th>29</th>\n",
       "      <td>workshop-trvlk</td>\n",
       "      <td>events</td>\n",
       "      <td>flights_perf_partition</td>\n",
       "      <td>DEP_AIRPORT_TZOFFSET</td>\n",
       "      <td>30</td>\n",
       "      <td>YES</td>\n",
       "      <td>FLOAT64</td>\n",
       "      <td>NEVER</td>\n",
       "      <td>None</td>\n",
       "      <td>None</td>\n",
       "      <td>NO</td>\n",
       "      <td>None</td>\n",
       "      <td>NO</td>\n",
       "      <td>NO</td>\n",
       "      <td>None</td>\n",
       "    </tr>\n",
       "    <tr>\n",
       "      <th>30</th>\n",
       "      <td>workshop-trvlk</td>\n",
       "      <td>events</td>\n",
       "      <td>flights_perf_partition</td>\n",
       "      <td>ARR_AIRPORT_LAT</td>\n",
       "      <td>31</td>\n",
       "      <td>YES</td>\n",
       "      <td>FLOAT64</td>\n",
       "      <td>NEVER</td>\n",
       "      <td>None</td>\n",
       "      <td>None</td>\n",
       "      <td>NO</td>\n",
       "      <td>None</td>\n",
       "      <td>NO</td>\n",
       "      <td>NO</td>\n",
       "      <td>None</td>\n",
       "    </tr>\n",
       "    <tr>\n",
       "      <th>31</th>\n",
       "      <td>workshop-trvlk</td>\n",
       "      <td>events</td>\n",
       "      <td>flights_perf_partition</td>\n",
       "      <td>ARR_AIRPORT_LON</td>\n",
       "      <td>32</td>\n",
       "      <td>YES</td>\n",
       "      <td>FLOAT64</td>\n",
       "      <td>NEVER</td>\n",
       "      <td>None</td>\n",
       "      <td>None</td>\n",
       "      <td>NO</td>\n",
       "      <td>None</td>\n",
       "      <td>NO</td>\n",
       "      <td>NO</td>\n",
       "      <td>None</td>\n",
       "    </tr>\n",
       "    <tr>\n",
       "      <th>32</th>\n",
       "      <td>workshop-trvlk</td>\n",
       "      <td>events</td>\n",
       "      <td>flights_perf_partition</td>\n",
       "      <td>ARR_AIRPORT_TZOFFSET</td>\n",
       "      <td>33</td>\n",
       "      <td>YES</td>\n",
       "      <td>FLOAT64</td>\n",
       "      <td>NEVER</td>\n",
       "      <td>None</td>\n",
       "      <td>None</td>\n",
       "      <td>NO</td>\n",
       "      <td>None</td>\n",
       "      <td>NO</td>\n",
       "      <td>NO</td>\n",
       "      <td>None</td>\n",
       "    </tr>\n",
       "  </tbody>\n",
       "</table>\n",
       "</div>"
      ],
      "text/plain": [
       "     table_catalog table_schema              table_name  \\\n",
       "0   workshop-trvlk       events  flights_perf_partition   \n",
       "1   workshop-trvlk       events  flights_perf_partition   \n",
       "2   workshop-trvlk       events  flights_perf_partition   \n",
       "3   workshop-trvlk       events  flights_perf_partition   \n",
       "4   workshop-trvlk       events  flights_perf_partition   \n",
       "5   workshop-trvlk       events  flights_perf_partition   \n",
       "6   workshop-trvlk       events  flights_perf_partition   \n",
       "7   workshop-trvlk       events  flights_perf_partition   \n",
       "8   workshop-trvlk       events  flights_perf_partition   \n",
       "9   workshop-trvlk       events  flights_perf_partition   \n",
       "10  workshop-trvlk       events  flights_perf_partition   \n",
       "11  workshop-trvlk       events  flights_perf_partition   \n",
       "12  workshop-trvlk       events  flights_perf_partition   \n",
       "13  workshop-trvlk       events  flights_perf_partition   \n",
       "14  workshop-trvlk       events  flights_perf_partition   \n",
       "15  workshop-trvlk       events  flights_perf_partition   \n",
       "16  workshop-trvlk       events  flights_perf_partition   \n",
       "17  workshop-trvlk       events  flights_perf_partition   \n",
       "18  workshop-trvlk       events  flights_perf_partition   \n",
       "19  workshop-trvlk       events  flights_perf_partition   \n",
       "20  workshop-trvlk       events  flights_perf_partition   \n",
       "21  workshop-trvlk       events  flights_perf_partition   \n",
       "22  workshop-trvlk       events  flights_perf_partition   \n",
       "23  workshop-trvlk       events  flights_perf_partition   \n",
       "24  workshop-trvlk       events  flights_perf_partition   \n",
       "25  workshop-trvlk       events  flights_perf_partition   \n",
       "26  workshop-trvlk       events  flights_perf_partition   \n",
       "27  workshop-trvlk       events  flights_perf_partition   \n",
       "28  workshop-trvlk       events  flights_perf_partition   \n",
       "29  workshop-trvlk       events  flights_perf_partition   \n",
       "30  workshop-trvlk       events  flights_perf_partition   \n",
       "31  workshop-trvlk       events  flights_perf_partition   \n",
       "32  workshop-trvlk       events  flights_perf_partition   \n",
       "\n",
       "              column_name  ordinal_position is_nullable  data_type  \\\n",
       "0                 FL_DATE                 1         YES       DATE   \n",
       "1          UNIQUE_CARRIER                 2         YES     STRING   \n",
       "2              AIRLINE_ID                 3         YES     STRING   \n",
       "3                 CARRIER                 4         YES     STRING   \n",
       "4                  FL_NUM                 5         YES     STRING   \n",
       "5       ORIGIN_AIRPORT_ID                 6         YES     STRING   \n",
       "6   ORIGIN_AIRPORT_SEQ_ID                 7         YES      INT64   \n",
       "7   ORIGIN_CITY_MARKET_ID                 8         YES     STRING   \n",
       "8                  ORIGIN                 9         YES     STRING   \n",
       "9         DEST_AIRPORT_ID                10         YES     STRING   \n",
       "10    DEST_AIRPORT_SEQ_ID                11         YES      INT64   \n",
       "11    DEST_CITY_MARKET_ID                12         YES     STRING   \n",
       "12                   DEST                13         YES     STRING   \n",
       "13           CRS_DEP_TIME                14         YES  TIMESTAMP   \n",
       "14               DEP_TIME                15         YES  TIMESTAMP   \n",
       "15              DEP_DELAY                16         YES    FLOAT64   \n",
       "16               TAXI_OUT                17         YES    FLOAT64   \n",
       "17             WHEELS_OFF                18         YES  TIMESTAMP   \n",
       "18              WHEELS_ON                19         YES  TIMESTAMP   \n",
       "19                TAXI_IN                20         YES    FLOAT64   \n",
       "20           CRS_ARR_TIME                21         YES  TIMESTAMP   \n",
       "21               ARR_TIME                22         YES  TIMESTAMP   \n",
       "22              ARR_DELAY                23         YES    FLOAT64   \n",
       "23              CANCELLED                24         YES     STRING   \n",
       "24      CANCELLATION_CODE                25         YES     STRING   \n",
       "25               DIVERTED                26         YES     STRING   \n",
       "26               DISTANCE                27         YES    FLOAT64   \n",
       "27        DEP_AIRPORT_LAT                28         YES    FLOAT64   \n",
       "28        DEP_AIRPORT_LON                29         YES    FLOAT64   \n",
       "29   DEP_AIRPORT_TZOFFSET                30         YES    FLOAT64   \n",
       "30        ARR_AIRPORT_LAT                31         YES    FLOAT64   \n",
       "31        ARR_AIRPORT_LON                32         YES    FLOAT64   \n",
       "32   ARR_AIRPORT_TZOFFSET                33         YES    FLOAT64   \n",
       "\n",
       "   is_generated generation_expression is_stored is_hidden is_updatable  \\\n",
       "0         NEVER                  None      None        NO         None   \n",
       "1         NEVER                  None      None        NO         None   \n",
       "2         NEVER                  None      None        NO         None   \n",
       "3         NEVER                  None      None        NO         None   \n",
       "4         NEVER                  None      None        NO         None   \n",
       "5         NEVER                  None      None        NO         None   \n",
       "6         NEVER                  None      None        NO         None   \n",
       "7         NEVER                  None      None        NO         None   \n",
       "8         NEVER                  None      None        NO         None   \n",
       "9         NEVER                  None      None        NO         None   \n",
       "10        NEVER                  None      None        NO         None   \n",
       "11        NEVER                  None      None        NO         None   \n",
       "12        NEVER                  None      None        NO         None   \n",
       "13        NEVER                  None      None        NO         None   \n",
       "14        NEVER                  None      None        NO         None   \n",
       "15        NEVER                  None      None        NO         None   \n",
       "16        NEVER                  None      None        NO         None   \n",
       "17        NEVER                  None      None        NO         None   \n",
       "18        NEVER                  None      None        NO         None   \n",
       "19        NEVER                  None      None        NO         None   \n",
       "20        NEVER                  None      None        NO         None   \n",
       "21        NEVER                  None      None        NO         None   \n",
       "22        NEVER                  None      None        NO         None   \n",
       "23        NEVER                  None      None        NO         None   \n",
       "24        NEVER                  None      None        NO         None   \n",
       "25        NEVER                  None      None        NO         None   \n",
       "26        NEVER                  None      None        NO         None   \n",
       "27        NEVER                  None      None        NO         None   \n",
       "28        NEVER                  None      None        NO         None   \n",
       "29        NEVER                  None      None        NO         None   \n",
       "30        NEVER                  None      None        NO         None   \n",
       "31        NEVER                  None      None        NO         None   \n",
       "32        NEVER                  None      None        NO         None   \n",
       "\n",
       "   is_system_defined is_partitioning_column clustering_ordinal_position  \n",
       "0                 NO                    YES                        None  \n",
       "1                 NO                     NO                        None  \n",
       "2                 NO                     NO                        None  \n",
       "3                 NO                     NO                        None  \n",
       "4                 NO                     NO                        None  \n",
       "5                 NO                     NO                        None  \n",
       "6                 NO                     NO                        None  \n",
       "7                 NO                     NO                        None  \n",
       "8                 NO                     NO                        None  \n",
       "9                 NO                     NO                        None  \n",
       "10                NO                     NO                        None  \n",
       "11                NO                     NO                        None  \n",
       "12                NO                     NO                        None  \n",
       "13                NO                     NO                        None  \n",
       "14                NO                     NO                        None  \n",
       "15                NO                     NO                        None  \n",
       "16                NO                     NO                        None  \n",
       "17                NO                     NO                        None  \n",
       "18                NO                     NO                        None  \n",
       "19                NO                     NO                        None  \n",
       "20                NO                     NO                        None  \n",
       "21                NO                     NO                        None  \n",
       "22                NO                     NO                        None  \n",
       "23                NO                     NO                        None  \n",
       "24                NO                     NO                        None  \n",
       "25                NO                     NO                        None  \n",
       "26                NO                     NO                        None  \n",
       "27                NO                     NO                        None  \n",
       "28                NO                     NO                        None  \n",
       "29                NO                     NO                        None  \n",
       "30                NO                     NO                        None  \n",
       "31                NO                     NO                        None  \n",
       "32                NO                     NO                        None  "
      ]
     },
     "execution_count": 10,
     "metadata": {},
     "output_type": "execute_result"
    }
   ],
   "source": [
    "%%bigquery\n",
    "\n",
    "SELECT\n",
    " *\n",
    "FROM\n",
    " `workshop-trvlk.events.INFORMATION_SCHEMA.COLUMNS`\n",
    "WHERE\n",
    " table_name=\"flights_perf_partition\""
   ]
  },
  {
   "cell_type": "markdown",
   "metadata": {},
   "source": [
    "<h2> Let's start to take a look at the data </h2>"
   ]
  },
  {
   "cell_type": "markdown",
   "metadata": {},
   "source": [
    "Take a sample of 100 records, and look at the data"
   ]
  },
  {
   "cell_type": "code",
   "execution_count": 11,
   "metadata": {},
   "outputs": [
    {
     "name": "stdout",
     "output_type": "stream",
     "text": [
      "Executing query with job ID: 5bfe3582-5558-45c8-935e-b9eeb9610129\n",
      "Query executing: 1.36s\n",
      "Query complete after 2.18s\n"
     ]
    }
   ],
   "source": [
    "%%bigquery df --verbose\n",
    "\n",
    "SELECT \n",
    "    *\n",
    "FROM \n",
    "    `workshop-trvlk.events.flights_perf_nopartition`\n",
    "LIMIT 100"
   ]
  },
  {
   "cell_type": "code",
   "execution_count": 12,
   "metadata": {},
   "outputs": [
    {
     "data": {
      "text/html": [
       "<div>\n",
       "<style scoped>\n",
       "    .dataframe tbody tr th:only-of-type {\n",
       "        vertical-align: middle;\n",
       "    }\n",
       "\n",
       "    .dataframe tbody tr th {\n",
       "        vertical-align: top;\n",
       "    }\n",
       "\n",
       "    .dataframe thead th {\n",
       "        text-align: right;\n",
       "    }\n",
       "</style>\n",
       "<table border=\"1\" class=\"dataframe\">\n",
       "  <thead>\n",
       "    <tr style=\"text-align: right;\">\n",
       "      <th></th>\n",
       "      <th>FL_DATE</th>\n",
       "      <th>UNIQUE_CARRIER</th>\n",
       "      <th>AIRLINE_ID</th>\n",
       "      <th>CARRIER</th>\n",
       "      <th>FL_NUM</th>\n",
       "      <th>ORIGIN_AIRPORT_ID</th>\n",
       "      <th>ORIGIN_AIRPORT_SEQ_ID</th>\n",
       "      <th>ORIGIN_CITY_MARKET_ID</th>\n",
       "      <th>ORIGIN</th>\n",
       "      <th>DEST_AIRPORT_ID</th>\n",
       "      <th>...</th>\n",
       "      <th>WHEELS_OFF</th>\n",
       "      <th>WHEELS_ON</th>\n",
       "      <th>TAXI_IN</th>\n",
       "      <th>CRS_ARR_TIME</th>\n",
       "      <th>ARR_TIME</th>\n",
       "      <th>ARR_DELAY</th>\n",
       "      <th>CANCELLED</th>\n",
       "      <th>CANCELLATION_CODE</th>\n",
       "      <th>DIVERTED</th>\n",
       "      <th>DISTANCE</th>\n",
       "    </tr>\n",
       "  </thead>\n",
       "  <tbody>\n",
       "    <tr>\n",
       "      <th>0</th>\n",
       "      <td>2015-12-04</td>\n",
       "      <td>AS</td>\n",
       "      <td>19930</td>\n",
       "      <td>AS</td>\n",
       "      <td>62</td>\n",
       "      <td>10299</td>\n",
       "      <td>1029904</td>\n",
       "      <td>30299</td>\n",
       "      <td>ANC</td>\n",
       "      <td>12523</td>\n",
       "      <td>...</td>\n",
       "      <td>810</td>\n",
       "      <td>930.0</td>\n",
       "      <td>5.0</td>\n",
       "      <td>938</td>\n",
       "      <td>935.0</td>\n",
       "      <td>-3.0</td>\n",
       "      <td>0.0</td>\n",
       "      <td>None</td>\n",
       "      <td>0.0</td>\n",
       "      <td>571.0</td>\n",
       "    </tr>\n",
       "    <tr>\n",
       "      <th>1</th>\n",
       "      <td>2015-06-04</td>\n",
       "      <td>WN</td>\n",
       "      <td>19393</td>\n",
       "      <td>WN</td>\n",
       "      <td>4479</td>\n",
       "      <td>12391</td>\n",
       "      <td>1239102</td>\n",
       "      <td>31703</td>\n",
       "      <td>ISP</td>\n",
       "      <td>14027</td>\n",
       "      <td>...</td>\n",
       "      <td>1457</td>\n",
       "      <td>1724.0</td>\n",
       "      <td>5.0</td>\n",
       "      <td>1740</td>\n",
       "      <td>1729.0</td>\n",
       "      <td>-11.0</td>\n",
       "      <td>0.0</td>\n",
       "      <td>None</td>\n",
       "      <td>0.0</td>\n",
       "      <td>1052.0</td>\n",
       "    </tr>\n",
       "    <tr>\n",
       "      <th>2</th>\n",
       "      <td>2014-06-03</td>\n",
       "      <td>AS</td>\n",
       "      <td>19930</td>\n",
       "      <td>AS</td>\n",
       "      <td>50</td>\n",
       "      <td>14709</td>\n",
       "      <td>1470903</td>\n",
       "      <td>30073</td>\n",
       "      <td>SCC</td>\n",
       "      <td>10754</td>\n",
       "      <td>...</td>\n",
       "      <td>1738</td>\n",
       "      <td>1813.0</td>\n",
       "      <td>7.0</td>\n",
       "      <td>1800</td>\n",
       "      <td>1820.0</td>\n",
       "      <td>20.0</td>\n",
       "      <td>0.0</td>\n",
       "      <td>None</td>\n",
       "      <td>0.0</td>\n",
       "      <td>204.0</td>\n",
       "    </tr>\n",
       "    <tr>\n",
       "      <th>3</th>\n",
       "      <td>2015-01-03</td>\n",
       "      <td>EV</td>\n",
       "      <td>20366</td>\n",
       "      <td>EV</td>\n",
       "      <td>2571</td>\n",
       "      <td>13241</td>\n",
       "      <td>1324102</td>\n",
       "      <td>33241</td>\n",
       "      <td>MEI</td>\n",
       "      <td>14109</td>\n",
       "      <td>...</td>\n",
       "      <td>2133</td>\n",
       "      <td>2148.0</td>\n",
       "      <td>9.0</td>\n",
       "      <td>2130</td>\n",
       "      <td>2157.0</td>\n",
       "      <td>27.0</td>\n",
       "      <td>0.0</td>\n",
       "      <td>None</td>\n",
       "      <td>0.0</td>\n",
       "      <td>69.0</td>\n",
       "    </tr>\n",
       "    <tr>\n",
       "      <th>4</th>\n",
       "      <td>2011-05-01</td>\n",
       "      <td>AA</td>\n",
       "      <td>19805</td>\n",
       "      <td>AA</td>\n",
       "      <td>1312</td>\n",
       "      <td>14843</td>\n",
       "      <td>1484302</td>\n",
       "      <td>34819</td>\n",
       "      <td>SJU</td>\n",
       "      <td>10529</td>\n",
       "      <td>...</td>\n",
       "      <td>1825</td>\n",
       "      <td>2201.0</td>\n",
       "      <td>5.0</td>\n",
       "      <td>2225</td>\n",
       "      <td>2206.0</td>\n",
       "      <td>-19.0</td>\n",
       "      <td>0.0</td>\n",
       "      <td>None</td>\n",
       "      <td>0.0</td>\n",
       "      <td>1666.0</td>\n",
       "    </tr>\n",
       "  </tbody>\n",
       "</table>\n",
       "<p>5 rows × 27 columns</p>\n",
       "</div>"
      ],
      "text/plain": [
       "      FL_DATE UNIQUE_CARRIER  AIRLINE_ID CARRIER  FL_NUM  ORIGIN_AIRPORT_ID  \\\n",
       "0  2015-12-04             AS       19930      AS      62              10299   \n",
       "1  2015-06-04             WN       19393      WN    4479              12391   \n",
       "2  2014-06-03             AS       19930      AS      50              14709   \n",
       "3  2015-01-03             EV       20366      EV    2571              13241   \n",
       "4  2011-05-01             AA       19805      AA    1312              14843   \n",
       "\n",
       "   ORIGIN_AIRPORT_SEQ_ID  ORIGIN_CITY_MARKET_ID ORIGIN  DEST_AIRPORT_ID  \\\n",
       "0                1029904                  30299    ANC            12523   \n",
       "1                1239102                  31703    ISP            14027   \n",
       "2                1470903                  30073    SCC            10754   \n",
       "3                1324102                  33241    MEI            14109   \n",
       "4                1484302                  34819    SJU            10529   \n",
       "\n",
       "     ...     WHEELS_OFF  WHEELS_ON TAXI_IN  CRS_ARR_TIME  ARR_TIME  ARR_DELAY  \\\n",
       "0    ...            810      930.0     5.0           938     935.0       -3.0   \n",
       "1    ...           1457     1724.0     5.0          1740    1729.0      -11.0   \n",
       "2    ...           1738     1813.0     7.0          1800    1820.0       20.0   \n",
       "3    ...           2133     2148.0     9.0          2130    2157.0       27.0   \n",
       "4    ...           1825     2201.0     5.0          2225    2206.0      -19.0   \n",
       "\n",
       "   CANCELLED  CANCELLATION_CODE  DIVERTED  DISTANCE  \n",
       "0        0.0               None       0.0     571.0  \n",
       "1        0.0               None       0.0    1052.0  \n",
       "2        0.0               None       0.0     204.0  \n",
       "3        0.0               None       0.0      69.0  \n",
       "4        0.0               None       0.0    1666.0  \n",
       "\n",
       "[5 rows x 27 columns]"
      ]
     },
     "execution_count": 12,
     "metadata": {},
     "output_type": "execute_result"
    }
   ],
   "source": [
    "# Note the above convenient syntax sugar, which will save the result to pandas DataFrame \"df\"\n",
    "df.head()"
   ]
  },
  {
   "cell_type": "markdown",
   "metadata": {},
   "source": [
    "**This following demonstration follows the flow used in Chapter 5 of book \"Data Science on the Google Cloud Platform\"**\n",
    "\n",
    "## Arrival delay v.s. Departure delay\n",
    "\n",
    "Pull the arrival delays corresponding to the model created in Chapter 3, i.e., of the\n",
    "arrival delay for flights that depart more than 10 minutes late."
   ]
  },
  {
   "cell_type": "code",
   "execution_count": 13,
   "metadata": {
    "collapsed": false
   },
   "outputs": [
    {
     "name": "stdout",
     "output_type": "stream",
     "text": [
      "Executing query with job ID: 061d5f0b-680a-41c5-b0d5-73e50222af2e\n",
      "Query executing: 1.44s\n",
      "Query complete after 2.61s\n"
     ]
    }
   ],
   "source": [
    "%%bigquery df --verbose\n",
    "\n",
    "SELECT \n",
    "    ARR_DELAY, DEP_DELAY\n",
    "FROM \n",
    "    `workshop-trvlk.events.flights_perf_nopartition`\n",
    "WHERE \n",
    "    FL_DATE >= \"2015-01-01\" AND DEP_DELAY >= 10 AND RAND() < 0.01"
   ]
  },
  {
   "cell_type": "code",
   "execution_count": 14,
   "metadata": {
    "collapsed": false
   },
   "outputs": [
    {
     "data": {
      "text/html": [
       "<div>\n",
       "<style scoped>\n",
       "    .dataframe tbody tr th:only-of-type {\n",
       "        vertical-align: middle;\n",
       "    }\n",
       "\n",
       "    .dataframe tbody tr th {\n",
       "        vertical-align: top;\n",
       "    }\n",
       "\n",
       "    .dataframe thead th {\n",
       "        text-align: right;\n",
       "    }\n",
       "</style>\n",
       "<table border=\"1\" class=\"dataframe\">\n",
       "  <thead>\n",
       "    <tr style=\"text-align: right;\">\n",
       "      <th></th>\n",
       "      <th>ARR_DELAY</th>\n",
       "      <th>DEP_DELAY</th>\n",
       "    </tr>\n",
       "  </thead>\n",
       "  <tbody>\n",
       "    <tr>\n",
       "      <th>count</th>\n",
       "      <td>24648.000000</td>\n",
       "      <td>24778.000000</td>\n",
       "    </tr>\n",
       "    <tr>\n",
       "      <th>mean</th>\n",
       "      <td>47.707562</td>\n",
       "      <td>52.662806</td>\n",
       "    </tr>\n",
       "    <tr>\n",
       "      <th>std</th>\n",
       "      <td>66.819052</td>\n",
       "      <td>65.056156</td>\n",
       "    </tr>\n",
       "    <tr>\n",
       "      <th>min</th>\n",
       "      <td>-54.000000</td>\n",
       "      <td>10.000000</td>\n",
       "    </tr>\n",
       "    <tr>\n",
       "      <th>25%</th>\n",
       "      <td>11.000000</td>\n",
       "      <td>17.000000</td>\n",
       "    </tr>\n",
       "    <tr>\n",
       "      <th>50%</th>\n",
       "      <td>27.000000</td>\n",
       "      <td>31.000000</td>\n",
       "    </tr>\n",
       "    <tr>\n",
       "      <th>75%</th>\n",
       "      <td>61.000000</td>\n",
       "      <td>62.000000</td>\n",
       "    </tr>\n",
       "    <tr>\n",
       "      <th>max</th>\n",
       "      <td>1495.000000</td>\n",
       "      <td>1456.000000</td>\n",
       "    </tr>\n",
       "  </tbody>\n",
       "</table>\n",
       "</div>"
      ],
      "text/plain": [
       "          ARR_DELAY     DEP_DELAY\n",
       "count  24648.000000  24778.000000\n",
       "mean      47.707562     52.662806\n",
       "std       66.819052     65.056156\n",
       "min      -54.000000     10.000000\n",
       "25%       11.000000     17.000000\n",
       "50%       27.000000     31.000000\n",
       "75%       61.000000     62.000000\n",
       "max     1495.000000   1456.000000"
      ]
     },
     "execution_count": 14,
     "metadata": {},
     "output_type": "execute_result"
    }
   ],
   "source": [
    "df.describe()"
   ]
  },
  {
   "cell_type": "markdown",
   "metadata": {},
   "source": [
    "### Violin plot of arrival delay"
   ]
  },
  {
   "cell_type": "code",
   "execution_count": 15,
   "metadata": {
    "collapsed": false
   },
   "outputs": [
    {
     "name": "stderr",
     "output_type": "stream",
     "text": [
      "/opt/conda/lib/python3.6/site-packages/scipy/stats/stats.py:1713: FutureWarning: Using a non-tuple sequence for multidimensional indexing is deprecated; use `arr[tuple(seq)]` instead of `arr[seq]`. In the future this will be interpreted as an array index, `arr[np.array(seq)]`, which will result either in an error or a different result.\n",
      "  return np.add.reduce(sorted[indexer] * weights, axis=axis) / sumval\n"
     ]
    },
    {
     "data": {
      "text/plain": [
       "<matplotlib.axes._subplots.AxesSubplot at 0x7fb927889ba8>"
      ]
     },
     "execution_count": 15,
     "metadata": {},
     "output_type": "execute_result"
    },
    {
     "data": {
      "image/png": "[encoded data removed]",
      "text/plain": [
       "<Figure size 864x576 with 1 Axes>"
      ]
     },
     "metadata": {
      "needs_background": "light"
     },
     "output_type": "display_data"
    }
   ],
   "source": [
    "fig, axs = plt.subplots(figsize=(12,8))\n",
    "sns.violinplot(data=df, x='ARR_DELAY', inner='box', orient='h', ax=axs)"
   ]
  },
  {
   "cell_type": "markdown",
   "metadata": {},
   "source": [
    "Violin plots are similar to box plots, except that they also show the probability density of the data at different values, usually smoothed by a kernel density estimator. Typically a violin plot will include all the data that is in a box plot: a marker for the median of the data; a box or marker indicating the interquartile range; and possibly all sample points, if the number of samples is not too high.\n",
    "\n",
    "So a violin plot is more informative than a plain box plot. While a box plot only shows summary statistics such as mean/median and interquartile ranges, the violin plot shows the full distribution of the data. The difference is particularly useful when the data distribution is multimodal (more than one peak). In this case a violin plot shows the presence of different peaks, their position and relative amplitude."
   ]
  },
  {
   "cell_type": "markdown",
   "metadata": {},
   "source": [
    "**Let’s compare the violin plot for flights that depart more than 10 minutes late with the violin plot for flights that depart less than 10 minutes late and zoom in on the x-axis close to our 15-minute threshold.**"
   ]
  },
  {
   "cell_type": "code",
   "execution_count": 16,
   "metadata": {
    "collapsed": true
   },
   "outputs": [
    {
     "name": "stdout",
     "output_type": "stream",
     "text": [
      "Executing query with job ID: ba6914cc-1d19-4f91-bad1-5083e2f19a43\n",
      "Query executing: 1.40s\n",
      "Query complete after 2.26s\n"
     ]
    }
   ],
   "source": [
    "%%bigquery df --verbose\n",
    "\n",
    "SELECT \n",
    "    ARR_DELAY, DEP_DELAY\n",
    "FROM \n",
    "    `workshop-trvlk.events.flights_perf_nopartition`\n",
    "WHERE \n",
    "    FL_DATE >= \"2015-01-01\" AND RAND() < 0.001"
   ]
  },
  {
   "cell_type": "code",
   "execution_count": 17,
   "metadata": {
    "collapsed": false
   },
   "outputs": [
    {
     "data": {
      "text/html": [
       "<div>\n",
       "<style scoped>\n",
       "    .dataframe tbody tr th:only-of-type {\n",
       "        vertical-align: middle;\n",
       "    }\n",
       "\n",
       "    .dataframe tbody tr th {\n",
       "        vertical-align: top;\n",
       "    }\n",
       "\n",
       "    .dataframe thead th {\n",
       "        text-align: right;\n",
       "    }\n",
       "</style>\n",
       "<table border=\"1\" class=\"dataframe\">\n",
       "  <thead>\n",
       "    <tr style=\"text-align: right;\">\n",
       "      <th></th>\n",
       "      <th>ARR_DELAY</th>\n",
       "      <th>DEP_DELAY</th>\n",
       "    </tr>\n",
       "  </thead>\n",
       "  <tbody>\n",
       "    <tr>\n",
       "      <th>count</th>\n",
       "      <td>11342.000000</td>\n",
       "      <td>11373.000000</td>\n",
       "    </tr>\n",
       "    <tr>\n",
       "      <th>mean</th>\n",
       "      <td>3.906630</td>\n",
       "      <td>9.074650</td>\n",
       "    </tr>\n",
       "    <tr>\n",
       "      <th>std</th>\n",
       "      <td>38.687211</td>\n",
       "      <td>36.240692</td>\n",
       "    </tr>\n",
       "    <tr>\n",
       "      <th>min</th>\n",
       "      <td>-81.000000</td>\n",
       "      <td>-29.000000</td>\n",
       "    </tr>\n",
       "    <tr>\n",
       "      <th>25%</th>\n",
       "      <td>-14.000000</td>\n",
       "      <td>-5.000000</td>\n",
       "    </tr>\n",
       "    <tr>\n",
       "      <th>50%</th>\n",
       "      <td>-5.000000</td>\n",
       "      <td>-2.000000</td>\n",
       "    </tr>\n",
       "    <tr>\n",
       "      <th>75%</th>\n",
       "      <td>7.000000</td>\n",
       "      <td>7.000000</td>\n",
       "    </tr>\n",
       "    <tr>\n",
       "      <th>max</th>\n",
       "      <td>819.000000</td>\n",
       "      <td>792.000000</td>\n",
       "    </tr>\n",
       "  </tbody>\n",
       "</table>\n",
       "</div>"
      ],
      "text/plain": [
       "          ARR_DELAY     DEP_DELAY\n",
       "count  11342.000000  11373.000000\n",
       "mean       3.906630      9.074650\n",
       "std       38.687211     36.240692\n",
       "min      -81.000000    -29.000000\n",
       "25%      -14.000000     -5.000000\n",
       "50%       -5.000000     -2.000000\n",
       "75%        7.000000      7.000000\n",
       "max      819.000000    792.000000"
      ]
     },
     "execution_count": 17,
     "metadata": {},
     "output_type": "execute_result"
    }
   ],
   "source": [
    "df.describe()"
   ]
  },
  {
   "cell_type": "code",
   "execution_count": 18,
   "metadata": {
    "collapsed": false
   },
   "outputs": [
    {
     "data": {
      "text/html": [
       "<div>\n",
       "<style scoped>\n",
       "    .dataframe tbody tr th:only-of-type {\n",
       "        vertical-align: middle;\n",
       "    }\n",
       "\n",
       "    .dataframe tbody tr th {\n",
       "        vertical-align: top;\n",
       "    }\n",
       "\n",
       "    .dataframe thead th {\n",
       "        text-align: right;\n",
       "    }\n",
       "</style>\n",
       "<table border=\"1\" class=\"dataframe\">\n",
       "  <thead>\n",
       "    <tr style=\"text-align: right;\">\n",
       "      <th></th>\n",
       "      <th>ARR_DELAY</th>\n",
       "      <th>DEP_DELAY</th>\n",
       "      <th>ontime</th>\n",
       "    </tr>\n",
       "  </thead>\n",
       "  <tbody>\n",
       "    <tr>\n",
       "      <th>0</th>\n",
       "      <td>17.0</td>\n",
       "      <td>12.0</td>\n",
       "      <td>False</td>\n",
       "    </tr>\n",
       "    <tr>\n",
       "      <th>4</th>\n",
       "      <td>28.0</td>\n",
       "      <td>31.0</td>\n",
       "      <td>False</td>\n",
       "    </tr>\n",
       "    <tr>\n",
       "      <th>12</th>\n",
       "      <td>16.0</td>\n",
       "      <td>13.0</td>\n",
       "      <td>False</td>\n",
       "    </tr>\n",
       "    <tr>\n",
       "      <th>22</th>\n",
       "      <td>6.0</td>\n",
       "      <td>-1.0</td>\n",
       "      <td>True</td>\n",
       "    </tr>\n",
       "    <tr>\n",
       "      <th>24</th>\n",
       "      <td>8.0</td>\n",
       "      <td>13.0</td>\n",
       "      <td>False</td>\n",
       "    </tr>\n",
       "  </tbody>\n",
       "</table>\n",
       "</div>"
      ],
      "text/plain": [
       "    ARR_DELAY  DEP_DELAY  ontime\n",
       "0        17.0       12.0   False\n",
       "4        28.0       31.0   False\n",
       "12       16.0       13.0   False\n",
       "22        6.0       -1.0    True\n",
       "24        8.0       13.0   False"
      ]
     },
     "execution_count": 18,
     "metadata": {},
     "output_type": "execute_result"
    }
   ],
   "source": [
    "df['ontime'] = df['DEP_DELAY'] < 10\n",
    "df[df['ARR_DELAY'] > 0].head()"
   ]
  },
  {
   "cell_type": "code",
   "execution_count": 19,
   "metadata": {
    "collapsed": false
   },
   "outputs": [
    {
     "data": {
      "text/plain": [
       "(-50, 200)"
      ]
     },
     "execution_count": 19,
     "metadata": {},
     "output_type": "execute_result"
    },
    {
     "data": {
      "image/png": "[encoded data removed]",
      "text/plain": [
       "<Figure size 864x576 with 1 Axes>"
      ]
     },
     "metadata": {
      "needs_background": "light"
     },
     "output_type": "display_data"
    }
   ],
   "source": [
    "fig, axs = plt.subplots(figsize=(12,8))\n",
    "sns.violinplot(data=df, x='ARR_DELAY', y='ontime', inner='box', orient='h', ax=axs)\n",
    "axs.set_xlim(-50, 200)"
   ]
  },
  {
   "cell_type": "code",
   "execution_count": 20,
   "metadata": {
    "collapsed": false
   },
   "outputs": [
    {
     "data": {
      "text/plain": [
       "(-50, 50)"
      ]
     },
     "execution_count": 20,
     "metadata": {},
     "output_type": "execute_result"
    },
    {
     "data": {
      "image/png": "[encoded data removed]",
      "text/plain": [
       "<Figure size 864x576 with 1 Axes>"
      ]
     },
     "metadata": {
      "needs_background": "light"
     },
     "output_type": "display_data"
    }
   ],
   "source": [
    "fig, axs = plt.subplots(figsize=(12,8))\n",
    "sns.violinplot(data=df, x='ARR_DELAY', y='ontime', \n",
    "                    inner='box', orient='h', gridsize=1000, ax=axs)\n",
    "axs.set_xlim(-50, 50)"
   ]
  },
  {
   "cell_type": "markdown",
   "metadata": {},
   "source": [
    "### observation\n",
    "It is clear that the 10-minute threshold separates the dataset into two separate statistical regimes, so that the typical arrival delay for flights that depart more than 10 minutes late is skewed toward much higher values than for flights that depart more on time.\n",
    "\n",
    "**However, the extremely long skinny tail of the violin plot is a red flag—it is an indication that the dataset might pose modeling challenges. Let’s investigate what is going on.**"
   ]
  },
  {
   "cell_type": "markdown",
   "metadata": {},
   "source": [
    "## Average arrival delay \n",
    "In this we are going to investigate the average arrival delay associated with every value of departure delay"
   ]
  },
  {
   "cell_type": "code",
   "execution_count": 21,
   "metadata": {},
   "outputs": [
    {
     "name": "stdout",
     "output_type": "stream",
     "text": [
      "Executing query with job ID: a31840dd-b08b-4b8e-a071-39ecf24767bc\n",
      "Query executing: 1.49s\n",
      "Query complete after 2.34s\n"
     ]
    }
   ],
   "source": [
    "%%bigquery result --verbose\n",
    "\n",
    "SELECT\n",
    "    AVG(ARR_DELAY) AS arrival_delay\n",
    "FROM\n",
    "    `workshop-trvlk.events.flights_perf_nopartition`\n",
    "WHERE\n",
    "    FL_DATE >= \"2015-01-01\"\n",
    "GROUP BY\n",
    "    DEP_DELAY\n",
    "ORDER BY\n",
    "    DEP_DELAY"
   ]
  },
  {
   "cell_type": "code",
   "execution_count": 22,
   "metadata": {},
   "outputs": [
    {
     "name": "stdout",
     "output_type": "stream",
     "text": [
      "<class 'pandas.core.frame.DataFrame'>\n",
      "RangeIndex: 1423 entries, 0 to 1422\n",
      "Data columns (total 1 columns):\n",
      "arrival_delay    1419 non-null float64\n",
      "dtypes: float64(1)\n",
      "memory usage: 11.2 KB\n"
     ]
    }
   ],
   "source": [
    "result.info()"
   ]
  },
  {
   "cell_type": "markdown",
   "metadata": {},
   "source": [
    "**I get back more than 1,000 rows. Are there really more than 1,000 unique values of DEP_DELAY**"
   ]
  },
  {
   "cell_type": "code",
   "execution_count": 23,
   "metadata": {},
   "outputs": [
    {
     "name": "stdout",
     "output_type": "stream",
     "text": [
      "Executing query with job ID: f6305182-d814-4f7a-ac83-a0d88653a5ca\n",
      "Query executing: 1.39s\n",
      "Query complete after 2.48s\n"
     ]
    }
   ],
   "source": [
    "%%bigquery result --verbose\n",
    "\n",
    "SELECT\n",
    "    DEP_DELAY,\n",
    "    AVG(ARR_DELAY) AS arrival_delay,\n",
    "    COUNT(ARR_DELAY) AS numflights\n",
    "FROM\n",
    "    `workshop-trvlk.events.flights_perf_nopartition`\n",
    "WHERE\n",
    "    FL_DATE >= \"2015-01-01\"\n",
    "GROUP BY\n",
    "    DEP_DELAY\n",
    "ORDER BY\n",
    "    DEP_DELAY"
   ]
  },
  {
   "cell_type": "code",
   "execution_count": 24,
   "metadata": {},
   "outputs": [
    {
     "data": {
      "text/html": [
       "<div>\n",
       "<style scoped>\n",
       "    .dataframe tbody tr th:only-of-type {\n",
       "        vertical-align: middle;\n",
       "    }\n",
       "\n",
       "    .dataframe tbody tr th {\n",
       "        vertical-align: top;\n",
       "    }\n",
       "\n",
       "    .dataframe thead th {\n",
       "        text-align: right;\n",
       "    }\n",
       "</style>\n",
       "<table border=\"1\" class=\"dataframe\">\n",
       "  <thead>\n",
       "    <tr style=\"text-align: right;\">\n",
       "      <th></th>\n",
       "      <th>DEP_DELAY</th>\n",
       "      <th>arrival_delay</th>\n",
       "      <th>numflights</th>\n",
       "    </tr>\n",
       "  </thead>\n",
       "  <tbody>\n",
       "    <tr>\n",
       "      <th>0</th>\n",
       "      <td>NaN</td>\n",
       "      <td>NaN</td>\n",
       "      <td>0</td>\n",
       "    </tr>\n",
       "    <tr>\n",
       "      <th>1</th>\n",
       "      <td>-204.0</td>\n",
       "      <td>-119.0</td>\n",
       "      <td>1</td>\n",
       "    </tr>\n",
       "    <tr>\n",
       "      <th>2</th>\n",
       "      <td>-149.0</td>\n",
       "      <td>-152.0</td>\n",
       "      <td>1</td>\n",
       "    </tr>\n",
       "    <tr>\n",
       "      <th>3</th>\n",
       "      <td>-91.0</td>\n",
       "      <td>-91.0</td>\n",
       "      <td>1</td>\n",
       "    </tr>\n",
       "    <tr>\n",
       "      <th>4</th>\n",
       "      <td>-82.0</td>\n",
       "      <td>-48.5</td>\n",
       "      <td>2</td>\n",
       "    </tr>\n",
       "  </tbody>\n",
       "</table>\n",
       "</div>"
      ],
      "text/plain": [
       "   DEP_DELAY  arrival_delay  numflights\n",
       "0        NaN            NaN           0\n",
       "1     -204.0         -119.0           1\n",
       "2     -149.0         -152.0           1\n",
       "3      -91.0          -91.0           1\n",
       "4      -82.0          -48.5           2"
      ]
     },
     "execution_count": 24,
     "metadata": {},
     "output_type": "execute_result"
    }
   ],
   "source": [
    "result[:5]"
   ]
  },
  {
   "cell_type": "code",
   "execution_count": 25,
   "metadata": {},
   "outputs": [
    {
     "data": {
      "text/html": [
       "<div>\n",
       "<style scoped>\n",
       "    .dataframe tbody tr th:only-of-type {\n",
       "        vertical-align: middle;\n",
       "    }\n",
       "\n",
       "    .dataframe tbody tr th {\n",
       "        vertical-align: top;\n",
       "    }\n",
       "\n",
       "    .dataframe thead th {\n",
       "        text-align: right;\n",
       "    }\n",
       "</style>\n",
       "<table border=\"1\" class=\"dataframe\">\n",
       "  <thead>\n",
       "    <tr style=\"text-align: right;\">\n",
       "      <th></th>\n",
       "      <th>DEP_DELAY</th>\n",
       "      <th>arrival_delay</th>\n",
       "      <th>numflights</th>\n",
       "    </tr>\n",
       "  </thead>\n",
       "  <tbody>\n",
       "    <tr>\n",
       "      <th>count</th>\n",
       "      <td>1422.000000</td>\n",
       "      <td>1419.000000</td>\n",
       "      <td>1423.000000</td>\n",
       "    </tr>\n",
       "    <tr>\n",
       "      <th>mean</th>\n",
       "      <td>656.194796</td>\n",
       "      <td>652.280598</td>\n",
       "      <td>7907.345748</td>\n",
       "    </tr>\n",
       "    <tr>\n",
       "      <th>std</th>\n",
       "      <td>438.025577</td>\n",
       "      <td>438.434185</td>\n",
       "      <td>61420.491596</td>\n",
       "    </tr>\n",
       "    <tr>\n",
       "      <th>min</th>\n",
       "      <td>-204.000000</td>\n",
       "      <td>-152.000000</td>\n",
       "      <td>0.000000</td>\n",
       "    </tr>\n",
       "    <tr>\n",
       "      <th>25%</th>\n",
       "      <td>286.250000</td>\n",
       "      <td>282.492968</td>\n",
       "      <td>4.000000</td>\n",
       "    </tr>\n",
       "    <tr>\n",
       "      <th>50%</th>\n",
       "      <td>641.500000</td>\n",
       "      <td>634.285714</td>\n",
       "      <td>11.000000</td>\n",
       "    </tr>\n",
       "    <tr>\n",
       "      <th>75%</th>\n",
       "      <td>996.750000</td>\n",
       "      <td>990.525000</td>\n",
       "      <td>180.000000</td>\n",
       "    </tr>\n",
       "    <tr>\n",
       "      <th>max</th>\n",
       "      <td>2149.000000</td>\n",
       "      <td>2142.000000</td>\n",
       "      <td>905616.000000</td>\n",
       "    </tr>\n",
       "  </tbody>\n",
       "</table>\n",
       "</div>"
      ],
      "text/plain": [
       "         DEP_DELAY  arrival_delay     numflights\n",
       "count  1422.000000    1419.000000    1423.000000\n",
       "mean    656.194796     652.280598    7907.345748\n",
       "std     438.025577     438.434185   61420.491596\n",
       "min    -204.000000    -152.000000       0.000000\n",
       "25%     286.250000     282.492968       4.000000\n",
       "50%     641.500000     634.285714      11.000000\n",
       "75%     996.750000     990.525000     180.000000\n",
       "max    2149.000000    2142.000000  905616.000000"
      ]
     },
     "execution_count": 25,
     "metadata": {},
     "output_type": "execute_result"
    }
   ],
   "source": [
    "result.describe()"
   ]
  },
  {
   "cell_type": "markdown",
   "metadata": {},
   "source": [
    "### Obervation\n",
    "Oddball values that are such a small proportion of the data can probably be ignored.\n",
    "Moreover, if the flight does really leave 82 plus minutes early, I’m quite sure that you won’t\n",
    "be on the flight, and if you are, you know that you will make the meeting. There is no\n",
    "reason to complicate our statistical modeling with such odd values."
   ]
  },
  {
   "cell_type": "markdown",
   "metadata": {},
   "source": [
    "### Remove outlier and continue analysis"
   ]
  },
  {
   "cell_type": "code",
   "execution_count": 26,
   "metadata": {},
   "outputs": [
    {
     "name": "stdout",
     "output_type": "stream",
     "text": [
      "Executing query with job ID: c8db0311-8d6f-4ff2-a818-9bf1fc6d75d4\n",
      "Query executing: 2.09s\n",
      "Query complete after 2.66s\n"
     ]
    }
   ],
   "source": [
    "%%bigquery depdelay --verbose\n",
    "\n",
    "SELECT\n",
    "  *\n",
    "FROM (\n",
    "  SELECT\n",
    "    DEP_DELAY,\n",
    "    AVG(ARR_DELAY) AS arrival_delay,\n",
    "    STDDEV(ARR_DELAY) AS stddev_arrival_delay,\n",
    "    COUNT(ARR_DELAY) AS numflights\n",
    "  FROM\n",
    "    `workshop-trvlk.events.flights_perf_nopartition`\n",
    "  WHERE\n",
    "    FL_DATE >= \"2015-01-01\"\n",
    "  GROUP BY\n",
    "    DEP_DELAY )\n",
    "WHERE\n",
    "  numflights > 370\n",
    "ORDER BY\n",
    "  DEP_DELAY"
   ]
  },
  {
   "cell_type": "code",
   "execution_count": 27,
   "metadata": {
    "collapsed": false
   },
   "outputs": [
    {
     "data": {
      "text/html": [
       "<div>\n",
       "<style scoped>\n",
       "    .dataframe tbody tr th:only-of-type {\n",
       "        vertical-align: middle;\n",
       "    }\n",
       "\n",
       "    .dataframe tbody tr th {\n",
       "        vertical-align: top;\n",
       "    }\n",
       "\n",
       "    .dataframe thead th {\n",
       "        text-align: right;\n",
       "    }\n",
       "</style>\n",
       "<table border=\"1\" class=\"dataframe\">\n",
       "  <thead>\n",
       "    <tr style=\"text-align: right;\">\n",
       "      <th></th>\n",
       "      <th>DEP_DELAY</th>\n",
       "      <th>arrival_delay</th>\n",
       "      <th>stddev_arrival_delay</th>\n",
       "      <th>numflights</th>\n",
       "    </tr>\n",
       "  </thead>\n",
       "  <tbody>\n",
       "    <tr>\n",
       "      <th>0</th>\n",
       "      <td>-26.0</td>\n",
       "      <td>-24.311518</td>\n",
       "      <td>11.610468</td>\n",
       "      <td>382</td>\n",
       "    </tr>\n",
       "    <tr>\n",
       "      <th>1</th>\n",
       "      <td>-25.0</td>\n",
       "      <td>-25.083183</td>\n",
       "      <td>10.550274</td>\n",
       "      <td>553</td>\n",
       "    </tr>\n",
       "    <tr>\n",
       "      <th>2</th>\n",
       "      <td>-24.0</td>\n",
       "      <td>-23.856574</td>\n",
       "      <td>11.514706</td>\n",
       "      <td>753</td>\n",
       "    </tr>\n",
       "    <tr>\n",
       "      <th>3</th>\n",
       "      <td>-23.0</td>\n",
       "      <td>-23.888340</td>\n",
       "      <td>10.939289</td>\n",
       "      <td>1012</td>\n",
       "    </tr>\n",
       "    <tr>\n",
       "      <th>4</th>\n",
       "      <td>-22.0</td>\n",
       "      <td>-23.410203</td>\n",
       "      <td>11.766737</td>\n",
       "      <td>1431</td>\n",
       "    </tr>\n",
       "  </tbody>\n",
       "</table>\n",
       "</div>"
      ],
      "text/plain": [
       "   DEP_DELAY  arrival_delay  stddev_arrival_delay  numflights\n",
       "0      -26.0     -24.311518             11.610468         382\n",
       "1      -25.0     -25.083183             10.550274         553\n",
       "2      -24.0     -23.856574             11.514706         753\n",
       "3      -23.0     -23.888340             10.939289        1012\n",
       "4      -22.0     -23.410203             11.766737        1431"
      ]
     },
     "execution_count": 27,
     "metadata": {},
     "output_type": "execute_result"
    }
   ],
   "source": [
    "depdelay[:5]"
   ]
  },
  {
   "cell_type": "code",
   "execution_count": 28,
   "metadata": {},
   "outputs": [
    {
     "data": {
      "text/html": [
       "<div>\n",
       "<style scoped>\n",
       "    .dataframe tbody tr th:only-of-type {\n",
       "        vertical-align: middle;\n",
       "    }\n",
       "\n",
       "    .dataframe tbody tr th {\n",
       "        vertical-align: top;\n",
       "    }\n",
       "\n",
       "    .dataframe thead th {\n",
       "        text-align: right;\n",
       "    }\n",
       "</style>\n",
       "<table border=\"1\" class=\"dataframe\">\n",
       "  <thead>\n",
       "    <tr style=\"text-align: right;\">\n",
       "      <th></th>\n",
       "      <th>DEP_DELAY</th>\n",
       "      <th>arrival_delay</th>\n",
       "      <th>stddev_arrival_delay</th>\n",
       "      <th>numflights</th>\n",
       "    </tr>\n",
       "  </thead>\n",
       "  <tbody>\n",
       "    <tr>\n",
       "      <th>count</th>\n",
       "      <td>294.000000</td>\n",
       "      <td>294.000000</td>\n",
       "      <td>294.000000</td>\n",
       "      <td>294.000000</td>\n",
       "    </tr>\n",
       "    <tr>\n",
       "      <th>mean</th>\n",
       "      <td>120.540816</td>\n",
       "      <td>116.666960</td>\n",
       "      <td>17.049226</td>\n",
       "      <td>38152.292517</td>\n",
       "    </tr>\n",
       "    <tr>\n",
       "      <th>std</th>\n",
       "      <td>85.084439</td>\n",
       "      <td>85.322574</td>\n",
       "      <td>2.511604</td>\n",
       "      <td>130964.985176</td>\n",
       "    </tr>\n",
       "    <tr>\n",
       "      <th>min</th>\n",
       "      <td>-26.000000</td>\n",
       "      <td>-25.083183</td>\n",
       "      <td>10.550274</td>\n",
       "      <td>379.000000</td>\n",
       "    </tr>\n",
       "    <tr>\n",
       "      <th>25%</th>\n",
       "      <td>47.250000</td>\n",
       "      <td>42.535461</td>\n",
       "      <td>15.928406</td>\n",
       "      <td>1005.250000</td>\n",
       "    </tr>\n",
       "    <tr>\n",
       "      <th>50%</th>\n",
       "      <td>120.500000</td>\n",
       "      <td>117.374383</td>\n",
       "      <td>17.508452</td>\n",
       "      <td>3122.000000</td>\n",
       "    </tr>\n",
       "    <tr>\n",
       "      <th>75%</th>\n",
       "      <td>193.750000</td>\n",
       "      <td>190.699956</td>\n",
       "      <td>18.687370</td>\n",
       "      <td>13171.500000</td>\n",
       "    </tr>\n",
       "    <tr>\n",
       "      <th>max</th>\n",
       "      <td>270.000000</td>\n",
       "      <td>265.718670</td>\n",
       "      <td>23.073901</td>\n",
       "      <td>905616.000000</td>\n",
       "    </tr>\n",
       "  </tbody>\n",
       "</table>\n",
       "</div>"
      ],
      "text/plain": [
       "        DEP_DELAY  arrival_delay  stddev_arrival_delay     numflights\n",
       "count  294.000000     294.000000            294.000000     294.000000\n",
       "mean   120.540816     116.666960             17.049226   38152.292517\n",
       "std     85.084439      85.322574              2.511604  130964.985176\n",
       "min    -26.000000     -25.083183             10.550274     379.000000\n",
       "25%     47.250000      42.535461             15.928406    1005.250000\n",
       "50%    120.500000     117.374383             17.508452    3122.000000\n",
       "75%    193.750000     190.699956             18.687370   13171.500000\n",
       "max    270.000000     265.718670             23.073901  905616.000000"
      ]
     },
     "execution_count": 28,
     "metadata": {},
     "output_type": "execute_result"
    }
   ],
   "source": [
    "depdelay.describe()"
   ]
  },
  {
   "cell_type": "code",
   "execution_count": 29,
   "metadata": {
    "collapsed": false
   },
   "outputs": [
    {
     "data": {
      "text/plain": [
       "<matplotlib.axes._subplots.AxesSubplot at 0x7fb904016a90>"
      ]
     },
     "execution_count": 29,
     "metadata": {},
     "output_type": "execute_result"
    },
    {
     "data": {
      "image/png": "[encoded data removed]",
      "text/plain": [
       "<Figure size 864x576 with 1 Axes>"
      ]
     },
     "metadata": {
      "needs_background": "light"
     },
     "output_type": "display_data"
    }
   ],
   "source": [
    "fig, axs = plt.subplots(figsize=(12,8))\n",
    "depdelay.plot(kind='line', x='DEP_DELAY', \n",
    "              y='arrival_delay', yerr='stddev_arrival_delay', ax=axs)"
   ]
  },
  {
   "cell_type": "markdown",
   "metadata": {},
   "source": [
    "It certainly does appear as if the relationship between departure delay and arrival\n",
    "delay is quite linear. The width of the standard deviation of the arrival delay is also\n",
    "pretty constant, on the order of 10 minutes."
   ]
  },
  {
   "cell_type": "markdown",
   "metadata": {},
   "source": [
    "## Cancelation Model"
   ]
  },
  {
   "cell_type": "markdown",
   "metadata": {},
   "source": [
    "### Applying probabilistic decision threshold"
   ]
  },
  {
   "cell_type": "markdown",
   "metadata": {},
   "source": [
    "If the plane is more than 30% likely to be delayed (on arrival) by more than 15 minutes, we want to send a text message asking to postpone the meeting"
   ]
  },
  {
   "cell_type": "code",
   "execution_count": 30,
   "metadata": {
    "collapsed": false
   },
   "outputs": [
    {
     "data": {
      "text/plain": [
       "Text(0,0.5,'> 30% likelihood of this Arrival Delay (minutes)')"
      ]
     },
     "execution_count": 30,
     "metadata": {},
     "output_type": "execute_result"
    },
    {
     "data": {
      "image/png": "[encoded data removed]",
      "text/plain": [
       "<Figure size 864x576 with 1 Axes>"
      ]
     },
     "metadata": {
      "needs_background": "light"
     },
     "output_type": "display_data"
    }
   ],
   "source": [
    "# Compute the 30% threshold for each departure delay\n",
    "Z_30 = 0.52\n",
    "depdelay['arr_delay_30'] = (Z_30 * depdelay['stddev_arrival_delay']) \\\n",
    "             + depdelay['arrival_delay']\n",
    "\n",
    "fig, axs = plt.subplots(figsize=(12,8))\n",
    "axs.axhline(y=15, color='r')\n",
    "depdelay.plot(kind='line', x='DEP_DELAY', y='arr_delay_30',\n",
    "              ax=axs, ylim=(0,30), xlim=(0,30), legend=False)\n",
    "axs.set_xlabel('Departure Delay (minutes)')\n",
    "axs.set_ylabel('> 30% likelihood of this Arrival Delay (minutes)')"
   ]
  },
  {
   "cell_type": "markdown",
   "metadata": {},
   "source": [
    "It appears that your decision criterion translates to a departure delay of 13 minutes. If\n",
    "your departure delay is 13 minutes or more, you are more than 30% likely to be\n",
    "delayed by 15 minutes or more."
   ]
  },
  {
   "cell_type": "markdown",
   "metadata": {},
   "source": [
    "### Empirical Probability Distribution Function"
   ]
  },
  {
   "cell_type": "code",
   "execution_count": 102,
   "metadata": {},
   "outputs": [
    {
     "name": "stdout",
     "output_type": "stream",
     "text": [
      "Executing query with job ID: 362d04e3-d993-4a3a-9043-e4bc1f63d895\n",
      "Query executing: 0.42s\n",
      "Query complete after 0.77s\n"
     ]
    }
   ],
   "source": [
    "%%bigquery depdelay --verbose\n",
    "\n",
    "SELECT\n",
    "  DEP_DELAY,\n",
    "  arrival_delay,\n",
    "  numflights\n",
    "FROM (\n",
    "  SELECT\n",
    "    DEP_DELAY,\n",
    "    APPROX_QUANTILES(ARR_DELAY,\n",
    "      101)[OFFSET(70)] AS arrival_delay,\n",
    "    COUNT(ARR_DELAY) AS numflights\n",
    "  FROM\n",
    "    `workshop-trvlk.events.flights_perf_nopartition`\n",
    "  WHERE\n",
    "    FL_DATE >= \"2015-01-01\"\n",
    "  GROUP BY\n",
    "    DEP_DELAY )\n",
    "WHERE\n",
    "  numflights > 370\n",
    "ORDER BY\n",
    "  DEP_DELAY"
   ]
  },
  {
   "cell_type": "code",
   "execution_count": 103,
   "metadata": {
    "collapsed": false
   },
   "outputs": [
    {
     "data": {
      "text/plain": [
       "Text(0, 0.5, '> 30% likelihood of this Arrival Delay (minutes)')"
      ]
     },
     "execution_count": 103,
     "metadata": {},
     "output_type": "execute_result"
    },
    {
     "data": {
      "image/png": "[encoded data removed]",
      "text/plain": [
       "<Figure size 864x576 with 1 Axes>"
      ]
     },
     "metadata": {},
     "output_type": "display_data"
    }
   ],
   "source": [
    "fig, axs = plt.subplots(figsize=(12,8))\n",
    "\n",
    "axs.axhline(y=15, color='r')\n",
    "depdelay.plot(kind='line', x='DEP_DELAY', y='arrival_delay',\n",
    "              ax=axs, ylim=(0,30), xlim=(0,30), legend=False)\n",
    "axs.set_xlabel('Departure Delay (minutes)')\n",
    "axs.set_ylabel('> 30% likelihood of this Arrival Delay (minutes)')"
   ]
  },
  {
   "cell_type": "markdown",
   "metadata": {},
   "source": [
    "Your decision threshold, without the assumption of\n",
    "normal distribution, is 16 minutes. If your flight is delayed by more than 16 minutes,\n",
    "there is a greater than 30% likelihood that you will arrive more than 15 minutes late."
   ]
  },
  {
   "cell_type": "markdown",
   "metadata": {},
   "source": [
    "### Evaluating the model"
   ]
  },
  {
   "cell_type": "markdown",
   "metadata": {},
   "source": [
    "Split the data into two parts. Create the model on the first part (called the training set), and evaluate it on the second part (called the test set).\n",
    "\n",
    "The approach that we will take is to find all the unique days in the dataset, shuffle\n",
    "them, and use 70% of these days as the training set and the remainder as the test set.\n",
    "For repeatability, I will store this division as a table in BigQuery"
   ]
  },
  {
   "cell_type": "code",
   "execution_count": 104,
   "metadata": {},
   "outputs": [
    {
     "name": "stdout",
     "output_type": "stream",
     "text": [
      "Executing query with job ID: 11e4a803-b91f-40d2-873a-a434b06012c7\n",
      "Query executing: 0.35s\n",
      "Query complete after 0.77s\n"
     ]
    }
   ],
   "source": [
    "%%bigquery depdelay --verbose\n",
    "    \n",
    "SELECT\n",
    "  DEP_DELAY,\n",
    "  arrival_delay,\n",
    "  numflights\n",
    "FROM (\n",
    "  SELECT\n",
    "    DEP_DELAY,\n",
    "    APPROX_QUANTILES(ARR_DELAY,\n",
    "      101)[OFFSET(70)] AS arrival_delay,\n",
    "    COUNT(ARR_DELAY) AS numflights\n",
    "  FROM\n",
    "    `events.flights_perf_nopartition` f\n",
    "  JOIN\n",
    "    `events.trainday` t\n",
    "  ON\n",
    "    f.FL_DATE = t.FL_DATE\n",
    "  WHERE\n",
    "    t.is_train_day = 'True' AND f.FL_DATE >= \"2015-01-01\"\n",
    "  GROUP BY\n",
    "    DEP_DELAY )\n",
    "WHERE\n",
    "  numflights > 370\n",
    "ORDER BY\n",
    "  DEP_DELAY"
   ]
  },
  {
   "cell_type": "code",
   "execution_count": 105,
   "metadata": {
    "collapsed": false
   },
   "outputs": [
    {
     "data": {
      "text/plain": [
       "Text(0, 0.5, '> 30% likelihood of this Arrival Delay (minutes)')"
      ]
     },
     "execution_count": 105,
     "metadata": {},
     "output_type": "execute_result"
    },
    {
     "data": {
      "image/png": "[encoded data removed]",
      "text/plain": [
       "<Figure size 864x576 with 1 Axes>"
      ]
     },
     "metadata": {},
     "output_type": "display_data"
    }
   ],
   "source": [
    "fig, axs = plt.subplots(figsize=(12,8))\n",
    "axs.axhline(y=15, color='r')\n",
    "depdelay.plot(kind='line', x='DEP_DELAY', y='arrival_delay',\n",
    "              ax=axs, ylim=(0,30), xlim=(0,30), legend=False)\n",
    "axs.set_xlabel('Departure Delay (minutes)')\n",
    "axs.set_ylabel('> 30% likelihood of this Arrival Delay (minutes)')"
   ]
  },
  {
   "cell_type": "code",
   "execution_count": 106,
   "metadata": {},
   "outputs": [
    {
     "name": "stdout",
     "output_type": "stream",
     "text": [
      "Executing query with job ID: 603c982d-f8f8-4af4-8d0e-71e139491767\n",
      "Query executing: 0.34s\n",
      "Query complete after 0.72s\n"
     ]
    }
   ],
   "source": [
    "%%bigquery eval --verbose\n",
    "\n",
    "SELECT\n",
    "  SUM(IF(DEP_DELAY < 16\n",
    "      AND arr_delay < 15, 1, 0)) AS correct_nocancel,\n",
    "  SUM(IF(DEP_DELAY < 16\n",
    "      AND arr_delay >= 15, 1, 0)) AS wrong_nocancel,\n",
    "  SUM(IF(DEP_DELAY >= 16\n",
    "      AND arr_delay < 15, 1, 0)) AS wrong_cancel,\n",
    "  SUM(IF(DEP_DELAY >= 16\n",
    "      AND arr_delay >= 15, 1, 0)) AS correct_cancel\n",
    "FROM (\n",
    "  SELECT\n",
    "    DEP_DELAY,\n",
    "    ARR_DELAY\n",
    "  FROM\n",
    "    `events.flights_perf_nopartition` f\n",
    "  JOIN\n",
    "    `events.trainday` t\n",
    "  ON\n",
    "    f.FL_DATE = t.FL_DATE\n",
    "  WHERE\n",
    "    t.is_train_day = 'False' AND f.FL_DATE >= \"2015-01-01\" )"
   ]
  },
  {
   "cell_type": "code",
   "execution_count": 107,
   "metadata": {
    "collapsed": false
   },
   "outputs": [
    {
     "name": "stdout",
     "output_type": "stream",
     "text": [
      "0    0.951328\n",
      "dtype: float64\n",
      "0    0.812219\n",
      "dtype: float64\n"
     ]
    }
   ],
   "source": [
    "print(eval['correct_nocancel'] / (eval['correct_nocancel'] + eval['wrong_nocancel']))\n",
    "print(eval['correct_cancel'] / (eval['correct_cancel'] + eval['wrong_cancel']))"
   ]
  },
  {
   "cell_type": "code",
   "execution_count": 108,
   "metadata": {
    "collapsed": false
   },
   "outputs": [
    {
     "data": {
      "text/html": [
       "<div>\n",
       "<style scoped>\n",
       "    .dataframe tbody tr th:only-of-type {\n",
       "        vertical-align: middle;\n",
       "    }\n",
       "\n",
       "    .dataframe tbody tr th {\n",
       "        vertical-align: top;\n",
       "    }\n",
       "\n",
       "    .dataframe thead th {\n",
       "        text-align: right;\n",
       "    }\n",
       "</style>\n",
       "<table border=\"1\" class=\"dataframe\">\n",
       "  <thead>\n",
       "    <tr style=\"text-align: right;\">\n",
       "      <th></th>\n",
       "      <th>correct_nocancel</th>\n",
       "      <th>wrong_nocancel</th>\n",
       "      <th>wrong_cancel</th>\n",
       "      <th>correct_cancel</th>\n",
       "    </tr>\n",
       "  </thead>\n",
       "  <tbody>\n",
       "    <tr>\n",
       "      <th>0</th>\n",
       "      <td>2681636</td>\n",
       "      <td>137199</td>\n",
       "      <td>107436</td>\n",
       "      <td>464698</td>\n",
       "    </tr>\n",
       "  </tbody>\n",
       "</table>\n",
       "</div>"
      ],
      "text/plain": [
       "   correct_nocancel  wrong_nocancel  wrong_cancel  correct_cancel\n",
       "0           2681636          137199        107436          464698"
      ]
     },
     "execution_count": 108,
     "metadata": {},
     "output_type": "execute_result"
    }
   ],
   "source": [
    "eval.head()"
   ]
  },
  {
   "cell_type": "markdown",
   "metadata": {},
   "source": [
    "It turns out when I recommend that you not cancel your meeting, I will be correct\n",
    "95% of the time, and when I recommend that you cancel your meeting, I will be correct\n",
    "80% of the time.\n",
    "\n",
    "Why is this not 70%? Because the populations are different. In creating the model, we\n",
    "found the 70th percentile of arrival delay given a specific departure delay. In evaluating\n",
    "the model, we looked at the dataset of all flights"
   ]
  },
  {
   "cell_type": "code",
   "execution_count": 111,
   "metadata": {},
   "outputs": [
    {
     "name": "stdout",
     "output_type": "stream",
     "text": [
      "Executing query with job ID: 6c69f4bc-bc56-4977-8106-db6db94110b8\n",
      "Query executing: 0.34s\n",
      "Query complete after 0.79s\n"
     ]
    }
   ],
   "source": [
    "%%bigquery eval --verbose\n",
    "\n",
    "SELECT\n",
    "  SUM(IF(DEP_DELAY = 15\n",
    "      AND arr_delay < 15, 1, 0)) AS correct_nocancel,\n",
    "  SUM(IF(DEP_DELAY = 15\n",
    "      AND arr_delay >= 15, 1, 0)) AS wrong_nocancel,\n",
    "  SUM(IF(DEP_DELAY = 16\n",
    "      AND arr_delay < 15, 1, 0)) AS wrong_cancel,\n",
    "  SUM(IF(DEP_DELAY = 16\n",
    "      AND arr_delay >= 15, 1, 0)) AS correct_cancel\n",
    "FROM (\n",
    "  SELECT\n",
    "    DEP_DELAY,\n",
    "    ARR_DELAY\n",
    "  FROM\n",
    "    `events.flights_perf_nopartition` f\n",
    "  JOIN\n",
    "    `events.trainday` t\n",
    "  ON\n",
    "    f.FL_DATE = t.FL_DATE\n",
    "  WHERE\n",
    "    t.is_train_day = 'False' AND f.FL_DATE >= \"2015-01-01\" )"
   ]
  },
  {
   "cell_type": "code",
   "execution_count": 112,
   "metadata": {
    "collapsed": false
   },
   "outputs": [
    {
     "data": {
      "text/html": [
       "<div>\n",
       "<style scoped>\n",
       "    .dataframe tbody tr th:only-of-type {\n",
       "        vertical-align: middle;\n",
       "    }\n",
       "\n",
       "    .dataframe tbody tr th {\n",
       "        vertical-align: top;\n",
       "    }\n",
       "\n",
       "    .dataframe thead th {\n",
       "        text-align: right;\n",
       "    }\n",
       "</style>\n",
       "<table border=\"1\" class=\"dataframe\">\n",
       "  <thead>\n",
       "    <tr style=\"text-align: right;\">\n",
       "      <th></th>\n",
       "      <th>correct_nocancel</th>\n",
       "      <th>wrong_nocancel</th>\n",
       "      <th>wrong_cancel</th>\n",
       "      <th>correct_cancel</th>\n",
       "    </tr>\n",
       "  </thead>\n",
       "  <tbody>\n",
       "    <tr>\n",
       "      <th>0</th>\n",
       "      <td>15633</td>\n",
       "      <td>5933</td>\n",
       "      <td>13644</td>\n",
       "      <td>5974</td>\n",
       "    </tr>\n",
       "  </tbody>\n",
       "</table>\n",
       "</div>"
      ],
      "text/plain": [
       "   correct_nocancel  wrong_nocancel  wrong_cancel  correct_cancel\n",
       "0             15633            5933         13644            5974"
      ]
     },
     "execution_count": 112,
     "metadata": {},
     "output_type": "execute_result"
    }
   ],
   "source": [
    "eval.head()"
   ]
  },
  {
   "cell_type": "code",
   "execution_count": 113,
   "metadata": {
    "collapsed": false
   },
   "outputs": [
    {
     "name": "stdout",
     "output_type": "stream",
     "text": [
      "0    0.724891\n",
      "dtype: float64\n",
      "0    0.304516\n",
      "dtype: float64\n"
     ]
    }
   ],
   "source": [
    "print(eval['correct_nocancel'] / (eval['correct_nocancel'] + eval['wrong_nocancel']))\n",
    "print(eval['correct_cancel'] / (eval['correct_cancel'] + eval['wrong_cancel']))"
   ]
  },
  {
   "cell_type": "code",
   "execution_count": null,
   "metadata": {
    "collapsed": true
   },
   "outputs": [],
   "source": []
  }
 ],
 "metadata": {
  "kernelspec": {
   "display_name": "Python 3",
   "language": "python",
   "name": "python3"
  },
  "language_info": {
   "codemirror_mode": {
    "name": "ipython",
    "version": 3
   },
   "file_extension": ".py",
   "mimetype": "text/x-python",
   "name": "python",
   "nbconvert_exporter": "python",
   "pygments_lexer": "ipython3",
   "version": "3.6.7"
  }
 },
 "nbformat": 4,
 "nbformat_minor": 2
}
